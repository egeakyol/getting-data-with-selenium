{
 "cells": [
  {
   "cell_type": "markdown",
   "metadata": {},
   "source": [
    "# selenium parts"
   ]
  },
  {
   "cell_type": "code",
   "execution_count": null,
   "metadata": {},
   "outputs": [],
   "source": [
    "# from selenium import webdriver\n",
    "from selenium.webdriver.support.ui import WebDriverWait\n",
    "import time\n",
    "from selenium.webdriver.support import expected_conditions as EC\n",
    "from selenium.webdriver.common.by import By\n",
    "options = webdriver.ChromeOptions()\n",
    "options.add_argument('--ignore-certificate-errors')\n",
    "\n",
    "driver = webdriver.Chrome(executable_path=r\"C:\\Users\\Asus\\Desktop\\chromedriver.exe\")\n",
    "\n",
    "#driver.get('https://www.emlakjet.com/satilik-konut/istanbul-besiktas/2')\n",
    "\n",
    "k = 2\n",
    "i = 1\n",
    "bilgiler = []\n",
    "prices = []\n",
    "for k in range(2,20):\n",
    "    driver.get(\"https://www.emlakjet.com/satilik-konut/istanbul-besiktas/\"+str(k)+\"\")\n",
    "    time.sleep(1)\n",
    "    \n",
    "    driver.execute_script(\"window.scrollTo(0, 600)\") \n",
    "    #element click hatası sayfada o nokta yol yani önce aşağı hareket etmemiz lazım \n",
    "    k +=1\n",
    "    \n",
    "    for i in range(1,8):\n",
    "        if i ==3:\n",
    "            continue\n",
    "        #because of the skip the ad box\n",
    "        print(i)\n",
    "        \n",
    "        driver.execute_script(\"window.scrollTo(0, \"+ str(i*180) +\")\") \n",
    "     \n",
    "        #içeride de çift tırnak var ise bunu düzeltirsin\n",
    "        element = WebDriverWait(driver, 20).until(EC.element_to_be_clickable((By.XPATH, \"//*[@id='__next']/div[3]/div[1]/div/div[5]/div[1]/div[1]/div[\"+str(i)+\"]\")))\n",
    "        #tıkla demek için\n",
    "        element.click();   \n",
    "        \n",
    "        driver.execute_script(\"window.scrollTo(0, 1300)\")\n",
    "        #DAşağı roll hareketi. Bunu yazmazsak click hatası verebiliyor.\n",
    "        \n",
    "        det = WebDriverWait(driver, 20).until(EC.element_to_be_clickable((By.XPATH, \"  //*[@id='bilgiler']/div/div[2]/div/div[2]/span\")))\n",
    "        #tıkla demek için\n",
    "        det.click(); \n",
    " \n",
    "        #♣bilgileri çekmek için , özellikleri aldık ve bir değişkene kaydettik\n",
    "        detaylar = driver.find_elements_by_css_selector(\".styles_contentWrap__13x35\")\n",
    "        \n",
    "        #Fiyatları da ayrı ayrı almamaız lazım.\n",
    "        fiyatlar = driver.find_elements_by_css_selector(\".styles_price__di9UE\")\n",
    "        #fiyat listesi 1 eksik çıkmıyor. Detaylar listesnin il elemanı boş \n",
    "        \n",
    "        for t in detaylar:\n",
    "            print(t.text)\n",
    "            bilgiler.append(t.text)\n",
    "        \n",
    "        for a in fiyatlar:\n",
    "            prices.append(a.text)\n",
    "            \n",
    "        time.sleep(0.5)\n",
    "        driver.execute_script(\"window.history.go(-1)\")\n",
    "        i += 1\n",
    "    time.sleep(1)"
   ]
  },
  {
   "cell_type": "markdown",
   "metadata": {},
   "source": [
    "# we have a lot of data. some data is not the information we are interested in"
   ]
  },
  {
   "cell_type": "code",
   "execution_count": null,
   "metadata": {},
   "outputs": [],
   "source": [
    "bilgiler_cek = []\n",
    "import numpy as np\n",
    "for i in range(1,np.array(bilgiler).shape[0]):\n",
    "    if (bilgiler[i].startswith(\"İlan Numarası\")) == True:\n",
    "        bilgiler_cek.append(bilgiler[i])\n",
    "    else:\n",
    "        continue"
   ]
  },
  {
   "cell_type": "markdown",
   "metadata": {},
   "source": [
    "# Create an empty data "
   ]
  },
  {
   "cell_type": "code",
   "execution_count": null,
   "metadata": {},
   "outputs": [],
   "source": [
    "import pandas as pd\n",
    "data = pd.DataFrame(columns=[\"İlan Numarası\",\"İlan Güncelleme Tarihi\",\n",
    "                             \"Kategorisi\",\"Brüt Metrekare\",\"Binanın Yaşı\",\n",
    "                             \"Binanın Kat Sayısı\",\"Kullanım Durumu\",\n",
    "                             \"Yatırıma Uygunluk\",\"Eşya Durumu\",\"Banyo Sayısı\",\n",
    "                             \"İlan Oluşturma Tarihi\",\"Türü\",\"Net Metrekare\",\n",
    "                             \"Oda Sayısı\",\"Bulunduğu Kat\",\"Isıtma Tipi\",\n",
    "                             \"Krediye Uygunluk\",\"Site İçerisinde\",\"Takas\",\"Fiyat Durumu\"])"
   ]
  },
  {
   "cell_type": "code",
   "execution_count": null,
   "metadata": {},
   "outputs": [],
   "source": [
    "print(bilgiler_cek[0])\n",
    "\n",
    "for i in range(0,50):\n",
    "    col = []\n",
    "    bilgiler_cek_1 = bilgiler_cek[i].splitlines(True)\n",
    "    for j in range(0,40,2):\n",
    "        col.append(bilgiler_cek_1[j+1])\n",
    "        print(col)\n",
    "    col = pd.DataFrame(col).T\n",
    "    data = pd.concat([data, col], ignore_index = True, axis = 0)\n",
    "    col.drop(col.index, inplace=True)"
   ]
  },
  {
   "cell_type": "code",
   "execution_count": null,
   "metadata": {},
   "outputs": [],
   "source": [
    "print(data.head())"
   ]
  }
 ],
 "metadata": {
  "kernelspec": {
   "display_name": "Python 3",
   "language": "python",
   "name": "python3"
  },
  "language_info": {
   "codemirror_mode": {
    "name": "ipython",
    "version": 3
   },
   "file_extension": ".py",
   "mimetype": "text/x-python",
   "name": "python",
   "nbconvert_exporter": "python",
   "pygments_lexer": "ipython3",
   "version": "3.8.3"
  }
 },
 "nbformat": 4,
 "nbformat_minor": 4
}
