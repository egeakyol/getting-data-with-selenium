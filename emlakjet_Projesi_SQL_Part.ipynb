{
 "cells": [
  {
   "cell_type": "code",
   "execution_count": 26,
   "metadata": {},
   "outputs": [],
   "source": [
    "import pandas as pd \n",
    "import numpy as np\n",
    "pd.set_option(\"display.max_columns\",30)"
   ]
  },
  {
   "cell_type": "code",
   "execution_count": 27,
   "metadata": {},
   "outputs": [],
   "source": [
    "data_emlak = pd.read_csv(\"data_emlak.csv\", index_col=0)"
   ]
  },
  {
   "cell_type": "code",
   "execution_count": 28,
   "metadata": {},
   "outputs": [
    {
     "name": "stdout",
     "output_type": "stream",
     "text": [
      "   Unnamed: 0.1  İlan Numarası İlan Güncelleme Tarihi Kategorisi  \\\n",
      "0             0       10571234         02 Şubat 2022    Satılık    \n",
      "1             1       10120410          14 Ocak 2022    Satılık    \n",
      "2             2       10120411          14 Ocak 2022    Satılık    \n",
      "3             3       10015657          06 Ocak 2022    Satılık    \n",
      "4             4       10627529         08 Şubat 2022    Satılık    \n",
      "\n",
      "  Brüt Metrekare  Binanın Yaşı  Binanın Kat Sayısı        Kullanım Durumu  \\\n",
      "0        190 M2          5-10                   20       Kiracı Oturuyor    \n",
      "1        300 M2   21 Ve Üzeri                    2       Kiracı Oturuyor    \n",
      "2        350 M2   21 Ve Üzeri                    3  Mülk Sahibi Oturuyor    \n",
      "3        450 M2          5-10                    4       Kiracı Oturuyor    \n",
      "4        160 M2   21 Ve Üzeri                    2  Mülk Sahibi Oturuyor    \n",
      "\n",
      "  Yatırıma Uygunluk Eşya Durumu Banyo Sayısı İlan Oluşturma Tarihi    Türü  \\\n",
      "0       Bilinmiyor         Boş            2          27 Ocak 2022   Konut    \n",
      "1       Bilinmiyor         Boş            3          15 Ekim 2021   Konut    \n",
      "2       Bilinmiyor         Boş            2          15 Ekim 2021   Konut    \n",
      "3       Bilinmiyor         Boş            3         22 Eylül 2021   Konut    \n",
      "4       Bilinmiyor         Boş            1         08 Şubat 2022   Konut    \n",
      "\n",
      "  Net Metrekare Oda Sayısı Bulunduğu Kat           Isıtma Tipi  \\\n",
      "0       168 M2        4+1        1. Kat               Klimalı    \n",
      "1       270 M2        5+1    Bahçe Katı   Merkezi (Pay Ölçer)    \n",
      "2       320 M2        5+2     Düz Giriş        Kombi Doğalgaz    \n",
      "3       400 M2        6+2     Düz Giriş        Kombi Doğalgaz    \n",
      "4       140 M2        3+1        1. Kat   Merkezi (Pay Ölçer)    \n",
      "\n",
      "  Krediye Uygunluk Site İçerisinde Takas  Fiyat Durumu    Fiyatı  \\\n",
      "0   KREDIYE UYGUN           Hayır   Yok   Genel Fiyat   18000000   \n",
      "1   KREDIYE UYGUN           Hayır   Yok   Genel Fiyat    8500000   \n",
      "2   KREDIYE UYGUN           Hayır   Yok   Genel Fiyat   16500000   \n",
      "3   KREDIYE UYGUN           Hayır   Yok   Genel Fiyat   22000000   \n",
      "4   KREDIYE UYGUN           Hayır   Yok   Genel Fiyat    4250000   \n",
      "\n",
      "                                     Lokasyon  \n",
      "0  İstanbul - Beşiktaş - Nisbetiye Mahallesi   \n",
      "1       İstanbul - Beşiktaş - Akat Mahallesi   \n",
      "2     İstanbul - Beşiktaş - Levent Mahallesi   \n",
      "3    İstanbul - Beşiktaş - Levazım Mahallesi   \n",
      "4  İstanbul - Beşiktaş - Nisbetiye Mahallesi   \n"
     ]
    }
   ],
   "source": [
    "\"\"\"1-) Fiyat üzerindeki tl ibaresini kaldıralım ve int yapalım\"\"\"\n",
    "#. işaretini kaldıralım\n",
    "#bir diğer problem veri çekilirken bazı fiyatlarda '13000000TLarrow_downward' etiketi mevcut\n",
    "\n",
    "data_emlak['Fiyatı'] = [str(i).replace(\".\", \"\") for i in data_emlak['Fiyatı']]\n",
    "#burada tlden sonrasını bölelim ilk değeri alalım\n",
    "data_emlak['Fiyatı'] = data_emlak['Fiyatı'].str.split(r\"TL\", expand=True)[0]\n",
    "data_emlak['Fiyatı'] = data_emlak['Fiyatı'].astype(int)\n",
    "print(data_emlak.head())\n"
   ]
  },
  {
   "cell_type": "code",
   "execution_count": 29,
   "metadata": {},
   "outputs": [
    {
     "name": "stdout",
     "output_type": "stream",
     "text": [
      "   Unnamed: 0.1  İlan Numarası İlan Güncelleme Tarihi Kategorisi  \\\n",
      "0             0       10571234         02 Şubat 2022    Satılık    \n",
      "1             1       10120410          14 Ocak 2022    Satılık    \n",
      "2             2       10120411          14 Ocak 2022    Satılık    \n",
      "3             3       10015657          06 Ocak 2022    Satılık    \n",
      "4             4       10627529         08 Şubat 2022    Satılık    \n",
      "\n",
      "   Brüt Metrekare  Binanın Yaşı  Binanın Kat Sayısı        Kullanım Durumu  \\\n",
      "0             190         5-10                   20       Kiracı Oturuyor    \n",
      "1             300  21 Ve Üzeri                    2       Kiracı Oturuyor    \n",
      "2             350  21 Ve Üzeri                    3  Mülk Sahibi Oturuyor    \n",
      "3             450         5-10                    4       Kiracı Oturuyor    \n",
      "4             160  21 Ve Üzeri                    2  Mülk Sahibi Oturuyor    \n",
      "\n",
      "  Yatırıma Uygunluk Eşya Durumu Banyo Sayısı İlan Oluşturma Tarihi    Türü  \\\n",
      "0       Bilinmiyor         Boş            2          27 Ocak 2022   Konut    \n",
      "1       Bilinmiyor         Boş            3          15 Ekim 2021   Konut    \n",
      "2       Bilinmiyor         Boş            2          15 Ekim 2021   Konut    \n",
      "3       Bilinmiyor         Boş            3         22 Eylül 2021   Konut    \n",
      "4       Bilinmiyor         Boş            1         08 Şubat 2022   Konut    \n",
      "\n",
      "   Net Metrekare Oda Sayısı Bulunduğu Kat           Isıtma Tipi  \\\n",
      "0            168       4+1        1. Kat               Klimalı    \n",
      "1            270       5+1    Bahçe Katı   Merkezi (Pay Ölçer)    \n",
      "2            320       5+2     Düz Giriş        Kombi Doğalgaz    \n",
      "3            400       6+2     Düz Giriş        Kombi Doğalgaz    \n",
      "4            140       3+1        1. Kat   Merkezi (Pay Ölçer)    \n",
      "\n",
      "  Krediye Uygunluk Site İçerisinde Takas  Fiyat Durumu    Fiyatı  \\\n",
      "0   KREDIYE UYGUN           Hayır   Yok   Genel Fiyat   18000000   \n",
      "1   KREDIYE UYGUN           Hayır   Yok   Genel Fiyat    8500000   \n",
      "2   KREDIYE UYGUN           Hayır   Yok   Genel Fiyat   16500000   \n",
      "3   KREDIYE UYGUN           Hayır   Yok   Genel Fiyat   22000000   \n",
      "4   KREDIYE UYGUN           Hayır   Yok   Genel Fiyat    4250000   \n",
      "\n",
      "                                     Lokasyon  \n",
      "0  İstanbul - Beşiktaş - Nisbetiye Mahallesi   \n",
      "1       İstanbul - Beşiktaş - Akat Mahallesi   \n",
      "2     İstanbul - Beşiktaş - Levent Mahallesi   \n",
      "3    İstanbul - Beşiktaş - Levazım Mahallesi   \n",
      "4  İstanbul - Beşiktaş - Nisbetiye Mahallesi   \n"
     ]
    }
   ],
   "source": [
    "\"\"\"2-) M2 ifadesindeki m2 yi alıp kolonu sayısal hale getirelim \"\"\"\n",
    "\n",
    "columns = [\"Brüt Metrekare\",\"Net Metrekare\"]\n",
    "for column in columns:\n",
    "    data_emlak[column] = [str(i).replace(\"M2\", \"\") for i in data_emlak[column]]\n",
    "    data_emlak[column] = [str(i).replace(\".\" , \"\") for i in data_emlak[column]]\n",
    "    data_emlak[column] = data_emlak[column].astype(int)\n",
    "print(data_emlak.head())"
   ]
  },
  {
   "cell_type": "code",
   "execution_count": 30,
   "metadata": {},
   "outputs": [
    {
     "name": "stdout",
     "output_type": "stream",
     "text": [
      "   Unnamed: 0.1  İlan Numarası İlan Güncelleme Tarihi Kategorisi  \\\n",
      "0             0       10571234         02 Şubat 2022    Satılık    \n",
      "1             1       10120410          14 Ocak 2022    Satılık    \n",
      "2             2       10120411          14 Ocak 2022    Satılık    \n",
      "3             3       10015657          06 Ocak 2022    Satılık    \n",
      "4             4       10627529         08 Şubat 2022    Satılık    \n",
      "\n",
      "   Brüt Metrekare  Binanın Yaşı  Binanın Kat Sayısı        Kullanım Durumu  \\\n",
      "0             190         5-10                   20       Kiracı Oturuyor    \n",
      "1             300  21 Ve Üzeri                    2       Kiracı Oturuyor    \n",
      "2             350  21 Ve Üzeri                    3  Mülk Sahibi Oturuyor    \n",
      "3             450         5-10                    4       Kiracı Oturuyor    \n",
      "4             160  21 Ve Üzeri                    2  Mülk Sahibi Oturuyor    \n",
      "\n",
      "  Yatırıma Uygunluk Eşya Durumu Banyo Sayısı İlan Oluşturma Tarihi    Türü  \\\n",
      "0       Bilinmiyor         Boş            2          27 Ocak 2022   Konut    \n",
      "1       Bilinmiyor         Boş            3          15 Ekim 2021   Konut    \n",
      "2       Bilinmiyor         Boş            2          15 Ekim 2021   Konut    \n",
      "3       Bilinmiyor         Boş            3         22 Eylül 2021   Konut    \n",
      "4       Bilinmiyor         Boş            1         08 Şubat 2022   Konut    \n",
      "\n",
      "   Net Metrekare Oda Sayısı Bulunduğu Kat           Isıtma Tipi  \\\n",
      "0            168       4+1        1. Kat               Klimalı    \n",
      "1            270       5+1    Bahçe Katı   Merkezi (Pay Ölçer)    \n",
      "2            320       5+2     Düz Giriş        Kombi Doğalgaz    \n",
      "3            400       6+2     Düz Giriş        Kombi Doğalgaz    \n",
      "4            140       3+1        1. Kat   Merkezi (Pay Ölçer)    \n",
      "\n",
      "  Krediye Uygunluk Site İçerisinde Takas  Fiyat Durumu    Fiyatı         İl  \\\n",
      "0   KREDIYE UYGUN           Hayır   Yok   Genel Fiyat   18000000  İstanbul    \n",
      "1   KREDIYE UYGUN           Hayır   Yok   Genel Fiyat    8500000  İstanbul    \n",
      "2   KREDIYE UYGUN           Hayır   Yok   Genel Fiyat   16500000  İstanbul    \n",
      "3   KREDIYE UYGUN           Hayır   Yok   Genel Fiyat   22000000  İstanbul    \n",
      "4   KREDIYE UYGUN           Hayır   Yok   Genel Fiyat    4250000  İstanbul    \n",
      "\n",
      "         İlçe                Mahalle  \n",
      "0   Beşiktaş    Nisbetiye Mahallesi   \n",
      "1   Beşiktaş         Akat Mahallesi   \n",
      "2   Beşiktaş       Levent Mahallesi   \n",
      "3   Beşiktaş      Levazım Mahallesi   \n",
      "4   Beşiktaş    Nisbetiye Mahallesi   \n"
     ]
    }
   ],
   "source": [
    "\"\"\"lokasyon kısmını 3 e ayıralım\"\"\"\n",
    "splits = data_emlak['Lokasyon'].str.split(r\"-\", expand=True)\n",
    "columns = [\"İl\", \"İlçe\", \"Mahalle\"]\n",
    "data_emlak = data_emlak.drop([\"Lokasyon\"], axis=1)\n",
    "for i in range(3):\n",
    "    data_emlak[columns[i]] = splits[i]\n",
    "print(data_emlak.head())"
   ]
  },
  {
   "cell_type": "code",
   "execution_count": 31,
   "metadata": {},
   "outputs": [
    {
     "name": "stdout",
     "output_type": "stream",
     "text": [
      "   İlan Numarası İlan Güncelleme Tarihi Kategorisi  Brüt Metrekare  \\\n",
      "0       10571234         02 Şubat 2022    Satılık              190   \n",
      "1       10120410          14 Ocak 2022    Satılık              300   \n",
      "2       10120411          14 Ocak 2022    Satılık              350   \n",
      "3       10015657          06 Ocak 2022    Satılık              450   \n",
      "4       10627529         08 Şubat 2022    Satılık              160   \n",
      "\n",
      "   Binanın Yaşı  Binanın Kat Sayısı        Kullanım Durumu Yatırıma Uygunluk  \\\n",
      "0         5-10                   20       Kiracı Oturuyor        Bilinmiyor    \n",
      "1  21 Ve Üzeri                    2       Kiracı Oturuyor        Bilinmiyor    \n",
      "2  21 Ve Üzeri                    3  Mülk Sahibi Oturuyor        Bilinmiyor    \n",
      "3         5-10                    4       Kiracı Oturuyor        Bilinmiyor    \n",
      "4  21 Ve Üzeri                    2  Mülk Sahibi Oturuyor        Bilinmiyor    \n",
      "\n",
      "  Eşya Durumu Banyo Sayısı İlan Oluşturma Tarihi    Türü  Net Metrekare  \\\n",
      "0        Boş            2          27 Ocak 2022   Konut             168   \n",
      "1        Boş            3          15 Ekim 2021   Konut             270   \n",
      "2        Boş            2          15 Ekim 2021   Konut             320   \n",
      "3        Boş            3         22 Eylül 2021   Konut             400   \n",
      "4        Boş            1         08 Şubat 2022   Konut             140   \n",
      "\n",
      "  Oda Sayısı Bulunduğu Kat           Isıtma Tipi Krediye Uygunluk  \\\n",
      "0       4+1        1. Kat               Klimalı    KREDIYE UYGUN    \n",
      "1       5+1    Bahçe Katı   Merkezi (Pay Ölçer)    KREDIYE UYGUN    \n",
      "2       5+2     Düz Giriş        Kombi Doğalgaz    KREDIYE UYGUN    \n",
      "3       6+2     Düz Giriş        Kombi Doğalgaz    KREDIYE UYGUN    \n",
      "4       3+1        1. Kat   Merkezi (Pay Ölçer)    KREDIYE UYGUN    \n",
      "\n",
      "  Site İçerisinde Takas  Fiyat Durumu    Fiyatı         İl        İlçe  \\\n",
      "0          Hayır   Yok   Genel Fiyat   18000000  İstanbul    Beşiktaş    \n",
      "1          Hayır   Yok   Genel Fiyat    8500000  İstanbul    Beşiktaş    \n",
      "2          Hayır   Yok   Genel Fiyat   16500000  İstanbul    Beşiktaş    \n",
      "3          Hayır   Yok   Genel Fiyat   22000000  İstanbul    Beşiktaş    \n",
      "4          Hayır   Yok   Genel Fiyat    4250000  İstanbul    Beşiktaş    \n",
      "\n",
      "                 Mahalle  \n",
      "0   Nisbetiye Mahallesi   \n",
      "1        Akat Mahallesi   \n",
      "2      Levent Mahallesi   \n",
      "3     Levazım Mahallesi   \n",
      "4   Nisbetiye Mahallesi   \n"
     ]
    }
   ],
   "source": [
    "\"\"\"delete Unnamed column\"\"\"\n",
    "\n",
    "data_emlak = data_emlak.iloc[:,1:]\n",
    "data_emlak.to_csv(\"emlak_data_V2.csv\", index = False)\n",
    "data = pd.read_csv(\"emlak_data_V2.csv\", index_col = False)\n",
    "print(data.head())"
   ]
  },
  {
   "cell_type": "code",
   "execution_count": 32,
   "metadata": {},
   "outputs": [],
   "source": [
    "# 1. yeni bir database açıldı\n",
    "# sqlite uygulaması üzerinden ypıldı\n",
    "# 2. İlgili csv dosyası import edildi.\n",
    "\n",
    "#Güncelleme tarihini date\n",
    "#Binanın yaşını sayısal yap\n",
    "#binanın katını sayısal yap\n",
    "#Eşya durumunu sayısalları categoricala dönüştür\n",
    "#banyo sayısısı sayısal\n",
    "#oda sayısı categorical olabilir\n",
    "#Bahçe katı düz giriş yüksek giriş gibi şeyleri giriş yap\n",
    "#bu kat tipinde kaçadet value_counts var\n",
    "\n",
    "\n",
    "import sqlite3\n",
    "\n",
    "conn = sqlite3.connect(\"emlak_datası.db\")\n",
    "\n",
    "c = conn.cursor()\n",
    "\n",
    "\n",
    "#yeni bir table oluşturalım ve datamızdaki bilgileri buraya aktaralım."
   ]
  },
  {
   "cell_type": "code",
   "execution_count": 33,
   "metadata": {},
   "outputs": [
    {
     "data": {
      "text/plain": [
       "<sqlite3.Cursor at 0x20fa63e6490>"
      ]
     },
     "execution_count": 33,
     "metadata": {},
     "output_type": "execute_result"
    }
   ],
   "source": [
    "# we can use \"IF NOT\" to fix the error table already exists\n",
    "#ilan numarasında bir sıkıntı var sadece orayı düzelt ileriki kısımlarda.\n",
    "\n",
    "c.execute(\"\"\" \n",
    "          CREATE TABLE IF NOT EXISTS emlak_datası (\n",
    "        'İlan_Numarası' INTEGER,\n",
    "        'İlan_Güncelleme_Tarihi' DATETIME,\n",
    "        'Kategorisi' TEXT,\n",
    "        'Brüt_Metrekare' INTEGER,\n",
    "        'Binanın_Yaşı' TEXT,\n",
    "        'Binanın_Kat_Sayısı' TEXT,\n",
    "        'Kullanım_Durumu' TEXT,\n",
    "        'Yatırıma_Uygunluk' TEXT,\n",
    "        'Eşya_Durumu' TEXT,\n",
    "        'Banyo_Sayısı' VARCHAR,\n",
    "        'İlan_Oluşturma_Tarihi' DATETIME,\n",
    "        'Türü' TEXT,\n",
    "        'Net_Metrekare' INTEGER,\n",
    "        'Oda_Sayısı' TEXT,\n",
    "        'Bulunduğu_Kat' TEXT,\n",
    "        'Isıtma_Tipi' TEXT,\n",
    "        'Krediye_Uygunluk' TEXT,\n",
    "        'Site_İçerisinde' TEXT,\n",
    "        'Takas' TEXT,\n",
    "        'Fiyat_Durumu' TEXT,\n",
    "        'Fiyatı' INTEGER,\n",
    "        'İl' TEXT,\n",
    "        'İlçe' TEXT,\n",
    "        'Mahalle' TEXT)\n",
    "        \"\"\")          "
   ]
  },
  {
   "cell_type": "code",
   "execution_count": 34,
   "metadata": {},
   "outputs": [],
   "source": [
    "import csv\n",
    "a_file = open(\"emlak_data_V2.csv\",encoding=\"utf8\")\n",
    "rows = csv.reader(a_file)\n",
    "c.executemany(\"INSERT INTO emlak_datası VALUES (?, ?, ?, ? ,? ,?, ?, ?, ?, ?, ?, ?, ?, ?, ?, ?, ?, ?, ?, ?, ?, ?, ?, ?)\", rows)         \n",
    "          \n",
    "conn.commit()\n"
   ]
  },
  {
   "cell_type": "markdown",
   "metadata": {},
   "source": [
    "# SELECT Operations"
   ]
  },
  {
   "cell_type": "code",
   "execution_count": 35,
   "metadata": {},
   "outputs": [
    {
     "name": "stdout",
     "output_type": "stream",
     "text": [
      "[('', 'İlan Güncelleme Tarihi', 'Kategorisi', 'Brüt Metrekare', 'Binanın Yaşı', 'Binanın Kat Sayısı', 'Kullanım Durumu', 'Yatırıma Uygunluk', 'Eşya Durumu', 'Banyo Sayısı', 'İlan Oluşturma Tarihi', 'Türü', 'Net Metrekare', 'Oda Sayısı', 'Bulunduğu Kat', 'Isıtma Tipi', 'Krediye Uygunluk', 'Site İçerisinde', 'Takas', 'Fiyat Durumu', 'Fiyatı', 'İl', 'İlçe', 'Mahalle'), ('0', '02 Şubat 2022 ', 'Satılık ', 190, '5-10 ', '20', 'Kiracı Oturuyor ', 'Bilinmiyor ', 'Boş ', '2 ', '27 Ocak 2022 ', 'Konut ', 168, '4+1 ', '1. Kat ', 'Klimalı ', 'KREDIYE UYGUN ', 'Hayır ', 'Yok ', 'Genel Fiyat ', 18000000, 'İstanbul ', ' Beşiktaş ', ' Nisbetiye Mahallesi '), ('1', '14 Ocak 2022 ', 'Satılık ', 300, '21 Ve Üzeri ', '2', 'Kiracı Oturuyor ', 'Bilinmiyor ', 'Boş ', '3 ', '15 Ekim 2021 ', 'Konut ', 270, '5+1 ', 'Bahçe Katı ', 'Merkezi (Pay Ölçer) ', 'KREDIYE UYGUN ', 'Hayır ', 'Yok ', 'Genel Fiyat ', 8500000, 'İstanbul ', ' Beşiktaş ', ' Akat Mahallesi '), ('2', '14 Ocak 2022 ', 'Satılık ', 350, '21 Ve Üzeri ', '3', 'Mülk Sahibi Oturuyor ', 'Bilinmiyor ', 'Boş ', '2 ', '15 Ekim 2021 ', 'Konut ', 320, '5+2 ', 'Düz Giriş ', 'Kombi Doğalgaz ', 'KREDIYE UYGUN ', 'Hayır ', 'Yok ', 'Genel Fiyat ', 16500000, 'İstanbul ', ' Beşiktaş ', ' Levent Mahallesi '), ('3', '06 Ocak 2022 ', 'Satılık ', 450, '5-10 ', '4', 'Kiracı Oturuyor ', 'Bilinmiyor ', 'Boş ', '3 ', '22 Eylül 2021 ', 'Konut ', 400, '6+2 ', 'Düz Giriş ', 'Kombi Doğalgaz ', 'KREDIYE UYGUN ', 'Hayır ', 'Yok ', 'Genel Fiyat ', 22000000, 'İstanbul ', ' Beşiktaş ', ' Levazım Mahallesi ')]\n"
     ]
    }
   ],
   "source": [
    "c.execute(\"SELECT * FROM emlak_datası LIMIT 5\")\n",
    "conn.commit()\n",
    "items= c.fetchall()\n",
    "print(items)"
   ]
  },
  {
   "cell_type": "code",
   "execution_count": 36,
   "metadata": {},
   "outputs": [
    {
     "name": "stdout",
     "output_type": "stream",
     "text": [
      "Average Price of data:  5257480.187402069 TL\n"
     ]
    }
   ],
   "source": [
    "\"\"\"İlk aşama emlak fiyatları ile ilgili sorgulamalar\"\"\"\n",
    "\n",
    "avg = c.execute(\"SELECT AVG(Fiyatı) AS 'records' FROM emlak_datası\").fetchone()[0]\n",
    "print(\"Average Price of data: \", avg, \"TL\")\n"
   ]
  },
  {
   "cell_type": "code",
   "execution_count": 37,
   "metadata": {},
   "outputs": [
    {
     "name": "stdout",
     "output_type": "stream",
     "text": [
      "How much house that are more than 1 Million TL : (4374,)\n"
     ]
    }
   ],
   "source": [
    "\"\"\"Fİyatı 1000000(1 milyon TL) olan ev sayısı\"\"\"\n",
    "\n",
    "row = c.execute('SELECT COUNT(Fiyatı) FROM emlak_datası WHERE Fiyatı > 1000000')\n",
    "items = c.fetchall()[0]\n",
    "print(\"How much house that are more than 1 Million TL :\", items)"
   ]
  },
  {
   "cell_type": "markdown",
   "metadata": {},
   "source": [
    "# UPDATE Operations"
   ]
  },
  {
   "cell_type": "code",
   "execution_count": null,
   "metadata": {},
   "outputs": [],
   "source": [
    "\n",
    "# ISITMA TİPİ\n",
    "print(\"*\" *100)\n",
    "\n",
    "\"\"\"Her Hangi bir kolondaki Value_counts ve onun update'i\"\"\"\n",
    "#Buradaki yıldızlı count satır sayısını döndürür\n",
    "row = c.execute(\"SELECT COUNT(*), Isıtma_Tipi FROM emlak_datası GROUP BY Isıtma_Tipi\")\n",
    "items = c.fetchall()\n",
    "print(type(items))\n",
    "#Isıtma tiplerini arraya atıp hepsini düzeltelim.\n",
    "ısınma_tipleri = []\n",
    "for item in items:\n",
    "    print(item)\n",
    "    ısınma_tipleri.append(item[1])\n",
    "    \n",
    "print(\"Liste içine kaydettiğimiz değişkenler: \\n\", ısınma_tipleri)\n",
    "\n",
    "for count, tips in enumerate(ısınma_tipleri):\n",
    "    if (count == 3 or count == 5 or count == 9 or count == 10):\n",
    "        pass       \n",
    "    else:\n",
    "        c.execute(\"UPDATE emlak_datası SET Isıtma_Tipi = 'Doğalgaz' WHERE Isıtma_Tipi = (?) \", (tips,))\n",
    "conn.commit()\n",
    "\n",
    "row = c.execute(\"SELECT COUNT(*), Isıtma_Tipi FROM emlak_datası GROUP BY Isıtma_Tipi\")\n",
    "items = c.fetchall()\n",
    "for item in items:\n",
    "    print(item) "
   ]
  },
  {
   "cell_type": "code",
   "execution_count": null,
   "metadata": {},
   "outputs": [],
   "source": [
    "#TAKAS KOLONU\n",
    "\n",
    "\"\"\"Her Hangi bir kolondaki Value_counts ve onun update'i\"\"\"\n",
    "#Buradaki yıldızlı count satır sayısını döndürür\n",
    "row = c.execute(\"SELECT COUNT(*), Takas FROM emlak_datası GROUP BY Takas\")\n",
    "items = c.fetchall()\n",
    "print(type(items))\n",
    "#Isıtma tiplerini arraya atıp hepsini düzeltelim.\n",
    "takas_tipleri = []\n",
    "for item in items:\n",
    "    print(item)\n",
    "    takas_tipleri.append(item[1])\n",
    "    \n",
    "print(\"Liste içine kaydettiğimiz değişkenler: \\n\", takas_tipleri)\n",
    "\n",
    "for count, tips in enumerate(takas_tipleri):\n",
    "    if (count == 15):\n",
    "        pass\n",
    "    else:\n",
    "        c.execute(\"UPDATE emlak_datası SET Takas = 'Var' WHERE Takas = (?) \", (tips,))\n",
    "\n",
    "conn.commit()\n",
    "\n",
    "row = c.execute(\"SELECT COUNT(*), Takas FROM emlak_datası GROUP BY Takas\")\n",
    "items = c.fetchall()\n",
    "for item in items:\n",
    "    print(item) "
   ]
  },
  {
   "cell_type": "code",
   "execution_count": null,
   "metadata": {},
   "outputs": [],
   "source": [
    "# SİTE İÇERİSİNDE\n",
    "\n",
    "row = c.execute(\"SELECT COUNT(*), Site_İçerisinde FROM emlak_datası GROUP BY Site_İçerisinde\")\n",
    "items = c.fetchall()\n",
    "print(type(items))\n",
    "#Isıtma tiplerini arraya atıp hepsini düzeltelim.\n",
    "site_tipleri = []\n",
    "for item in items:\n",
    "    print(item)\n",
    "    site_tipleri.append(item[1])\n",
    "    \n",
    "print(\"Liste içine kaydettiğimiz değişkenler: \\n\", site_tipleri)\n",
    "\n",
    "for count, tips in enumerate(site_tipleri):\n",
    "    if (count == 15 or count ==21):\n",
    "         c.execute(\"UPDATE emlak_datası SET Site_İçerisinde = 'Evet' WHERE Site_İçerisinde = (?) \", (tips,))\n",
    "    else:\n",
    "        c.execute(\"UPDATE emlak_datası SET Site_İçerisinde = 'Hayır' WHERE Site_İçerisinde = (?) \", (tips,))\n",
    "\n",
    "conn.commit()\n",
    "\n",
    "row = c.execute(\"SELECT COUNT(*), Site_İçerisinde FROM emlak_datası GROUP BY Site_İçerisinde\")\n",
    "items = c.fetchall()\n",
    "for item in items:\n",
    "    print(item) "
   ]
  },
  {
   "cell_type": "code",
   "execution_count": null,
   "metadata": {},
   "outputs": [],
   "source": [
    "# EŞYA DURUMU\n",
    "\n",
    "row = c.execute(\"SELECT COUNT(*), Eşya_Durumu FROM emlak_datası GROUP BY Eşya_Durumu\")\n",
    "items = c.fetchall()\n",
    "print(type(items))\n",
    "#Isıtma tiplerini arraya atıp hepsini düzeltelim.\n",
    "eşya_tipleri = []\n",
    "for item in items:\n",
    "    print(item)\n",
    "    eşya_tipleri.append(item[1])\n",
    "    \n",
    "print(\"Liste içine kaydettiğimiz değişkenler: \\n\", eşya_tipleri)\n",
    "\n",
    "for count, tips in enumerate(eşya_tipleri):\n",
    "    if (count == 31 or count==22):\n",
    "        c.execute(\"UPDATE emlak_datası SET Eşya_Durumu = 'Yok' WHERE Eşya_Durumu = (?) \", (tips,))\n",
    "    else:\n",
    "        c.execute(\"UPDATE emlak_datası SET Eşya_Durumu = 'Var' WHERE Eşya_Durumu = (?) \", (tips,))\n",
    "\n",
    "conn.commit()\n",
    "\n",
    "row = c.execute(\"SELECT COUNT(*), Eşya_Durumu FROM emlak_datası GROUP BY Eşya_Durumu\")\n",
    "items = c.fetchall()\n",
    "for item in items:\n",
    "    print(item) \n",
    "\n",
    "\n"
   ]
  },
  {
   "cell_type": "code",
   "execution_count": null,
   "metadata": {},
   "outputs": [],
   "source": [
    "row = c.execute(\"SELECT COUNT(*), Krediye_Uygunluk FROM emlak_datası GROUP BY Krediye_Uygunluk\")\n",
    "items = c.fetchall()\n",
    "print(type(items))\n",
    "#Isıtma tiplerini arraya atıp hepsini düzeltelim.\n",
    "Krediye_Uygunluk_tipleri = []\n",
    "for item in items:\n",
    "    print(item)\n",
    "    Krediye_Uygunluk_tipleri.append(item[1])\n",
    "    \n",
    "print(\"Liste içine kaydettiğimiz değişkenler: \\n\", Krediye_Uygunluk_tipleri)"
   ]
  },
  {
   "cell_type": "markdown",
   "metadata": {},
   "source": [
    "# DELETE OPERATİONS"
   ]
  },
  {
   "cell_type": "code",
   "execution_count": null,
   "metadata": {},
   "outputs": [],
   "source": [
    "c.execute(\"DELETE FROM emlak_datası WHERE rowid = 1\")\n",
    "\n",
    "conn.commit()\n"
   ]
  },
  {
   "cell_type": "code",
   "execution_count": null,
   "metadata": {},
   "outputs": [],
   "source": [
    "conn.close()   "
   ]
  }
 ],
 "metadata": {
  "kernelspec": {
   "display_name": "Python 3",
   "language": "python",
   "name": "python3"
  },
  "language_info": {
   "codemirror_mode": {
    "name": "ipython",
    "version": 3
   },
   "file_extension": ".py",
   "mimetype": "text/x-python",
   "name": "python",
   "nbconvert_exporter": "python",
   "pygments_lexer": "ipython3",
   "version": "3.8.3"
  }
 },
 "nbformat": 4,
 "nbformat_minor": 4
}
