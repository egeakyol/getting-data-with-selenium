{
 "cells": [
  {
   "cell_type": "code",
   "execution_count": null,
   "metadata": {},
   "outputs": [],
   "source": [
    "t1=time.time()\n",
    "kf = StratifiedKFold(n_splits=5, shuffle=True, random_state = 1)\n",
    "off = np.zeros(len(X_ridge))\n",
    "score_list = []\n",
    "fold = 1\n",
    "test_preds = []\n",
    "\n",
    "\n",
    "for train_index, test_index in kf.split(X_ridge, y_ridge):\n",
    "    \n",
    "    #ilgili iloclara göre split edilmesi\n",
    "    X_train , X_val = X_ridge.iloc[train_index], X_ridge.iloc[test_index]  \n",
    "    y_train, y_val = y_ridge.iloc[train_index], y_ridge.iloc[test_index]    \n",
    "    \n",
    "    print(\"X_train shape is :\", X_train.shape,\"X_val shape is\", X_val.shape)\n",
    "    y_pred_list = []\n",
    "    \n",
    "    #*******************SCALER*******************\n",
    "    scaler = StandardScaler()\n",
    "    X_train_sc = pd.DataFrame(scaler.fit_transform(X_train))\n",
    "    X_val_sc = pd.DataFrame(scaler.transform(X_val))\n",
    "    \n",
    "    #*******************RESAMPLING*******************\n",
    "    sm = SMOTE(sampling_strategy=0.6)\n",
    "    X_train_oversampled, y_train_oversampled = sm.fit_resample(X_train_sc, y_train)\n",
    "    \n",
    "    ridge = RidgeClassifier(alpha = 0.1,\n",
    "                            normalize=False, random_state=1, solver='auto')\n",
    "    \n",
    "    ridge.fit(X_train_oversampled, y_train_oversampled) \n",
    "    \n",
    "    y_pred_list.append(ridge.predict(X_val_sc))\n",
    "    \n",
    "    print(\" Roc Auc Score\", roc_auc_score(y_val, np.mean(y_pred_list, axis=0)))\n",
    "    print(confusion_matrix(y_val,ridge.predict(X_val_sc)))\n",
    "    print(80  * \"*\")\n",
    "     \n",
    "        \n",
    "    test_preds.append(ridge.predict(test_ridge))\n",
    "    off[test_index] = np.mean(y_pred_list, axis=0)\n",
    "    \n",
    "    score = roc_auc_score(y_val, off[test_index])\n",
    "    print(f\"Auc- Fold - {fold}: {score}\")\n",
    "    score_list.append(score)\n",
    "    \n",
    "\n",
    "    \n",
    "    # print(y_pred_list.columns)\n",
    "    # print(\"F1_Score :\", f1_score(y_val,y_pred_list))\n",
    "    fold +=1\n",
    "\n",
    "    \n",
    "print(np.mean(score_list))\n",
    "t2=time.time()\n",
    "print(\"Ridge model take : {:.3f} sn.\".format(t2-t1))"
   ]
  }
 ],
 "metadata": {
  "kernelspec": {
   "display_name": "Python 3",
   "language": "python",
   "name": "python3"
  },
  "language_info": {
   "codemirror_mode": {
    "name": "ipython",
    "version": 3
   },
   "file_extension": ".py",
   "mimetype": "text/x-python",
   "name": "python",
   "nbconvert_exporter": "python",
   "pygments_lexer": "ipython3",
   "version": "3.8.3"
  }
 },
 "nbformat": 4,
 "nbformat_minor": 4
}
